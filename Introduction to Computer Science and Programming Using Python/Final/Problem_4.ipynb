{
 "cells": [
  {
   "cell_type": "code",
   "execution_count": 15,
   "id": "57271cc6",
   "metadata": {},
   "outputs": [],
   "source": [
    "def largest_odd_times(L):\n",
    "    \"\"\" Assumes L is a non-empty list of ints\n",
    "        Returns the largest element of L that occurs an odd number \n",
    "        of times in L. If no such element exists, returns None \"\"\"\n",
    "    L_dict = {}\n",
    "    for ele in L:\n",
    "        L_dict[ele] = L_dict.get(ele, 0) + 1\n",
    "    maximum_ele = 0\n",
    "    for key, value in L_dict.items():\n",
    "        if value % 2 == 1:\n",
    "            if key > maximum_ele:\n",
    "                maximum_ele = key\n",
    "    if maximum_ele == 0:\n",
    "        maximum_ele = None\n",
    "    return maximum_ele\n",
    "    "
   ]
  },
  {
   "cell_type": "code",
   "execution_count": 16,
   "id": "8a3a5810",
   "metadata": {},
   "outputs": [
    {
     "name": "stdout",
     "output_type": "stream",
     "text": [
      "None\n"
     ]
    }
   ],
   "source": [
    "print(largest_odd_times([2,2,4,4]))"
   ]
  },
  {
   "cell_type": "code",
   "execution_count": 17,
   "id": "e204094f",
   "metadata": {},
   "outputs": [
    {
     "name": "stdout",
     "output_type": "stream",
     "text": [
      "9\n"
     ]
    }
   ],
   "source": [
    "print(largest_odd_times([3,9,5,3,5,3]))"
   ]
  },
  {
   "cell_type": "code",
   "execution_count": 18,
   "id": "159aae5a",
   "metadata": {},
   "outputs": [],
   "source": [
    "# Paste your function here\n",
    "def largest_odd_times(L):\n",
    "    \"\"\" Assumes L is a non-empty list of ints\n",
    "        Returns the largest element of L that occurs an odd number \n",
    "        of times in L. If no such element exists, returns None \n",
    "    \"\"\"\n",
    "    tmp_set = set(L)\n",
    "    while len(tmp_set) > 0:\n",
    "    \tres = max(tmp_set)\n",
    "    \tif (L.count(res) % 2) != 0:\n",
    "    \t\treturn res\n",
    "    \telse:\n",
    "    \t\ttmp_set.remove(res)"
   ]
  },
  {
   "cell_type": "code",
   "execution_count": 19,
   "id": "10a8aa69",
   "metadata": {},
   "outputs": [
    {
     "name": "stdout",
     "output_type": "stream",
     "text": [
      "None\n"
     ]
    }
   ],
   "source": [
    "print(largest_odd_times([2,2,4,4]))"
   ]
  },
  {
   "cell_type": "code",
   "execution_count": 20,
   "id": "cfa0c257",
   "metadata": {},
   "outputs": [
    {
     "name": "stdout",
     "output_type": "stream",
     "text": [
      "9\n"
     ]
    }
   ],
   "source": [
    "print(largest_odd_times([3,9,5,3,5,3]))"
   ]
  },
  {
   "cell_type": "code",
   "execution_count": null,
   "id": "8956c36b",
   "metadata": {},
   "outputs": [],
   "source": []
  }
 ],
 "metadata": {
  "kernelspec": {
   "display_name": "Python 3",
   "language": "python",
   "name": "python3"
  },
  "language_info": {
   "codemirror_mode": {
    "name": "ipython",
    "version": 3
   },
   "file_extension": ".py",
   "mimetype": "text/x-python",
   "name": "python",
   "nbconvert_exporter": "python",
   "pygments_lexer": "ipython3",
   "version": "3.8.8"
  }
 },
 "nbformat": 4,
 "nbformat_minor": 5
}
