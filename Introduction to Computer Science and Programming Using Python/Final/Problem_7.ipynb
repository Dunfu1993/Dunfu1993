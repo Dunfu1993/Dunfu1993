{
 "cells": [
  {
   "cell_type": "code",
   "execution_count": 2,
   "id": "f81a211a",
   "metadata": {},
   "outputs": [],
   "source": [
    "class myDict(object):\n",
    "    \"\"\" Implements a dictionary without using a dictionary \"\"\"\n",
    "    def __init__(self):\n",
    "        \"\"\" initialization of your representation \"\"\"\n",
    "        #FILL THIS IN\n",
    "        self.dictionary = []\n",
    "        \n",
    "    def assign(self, k, v):\n",
    "        \"\"\" k (the key) and v (the value), immutable objects  \"\"\"\n",
    "        #FILL THIS IN\n",
    "        self.k = k\n",
    "        self.v = v\n",
    "        isThere = False\n",
    "        if len(self.dictionary) == 0:\n",
    "            self.dictionary += [[k, v]]\n",
    "            isThere = True\n",
    "        for item in self.dictionary:\n",
    "            if k == item[0]:\n",
    "                item[1] = v\n",
    "                isThere = True\n",
    "        if isThere == False:\n",
    "            self.dictionary += [[k, v]]\n",
    "        \n",
    "    def getval(self, k):\n",
    "        \"\"\" k, immutable object  \"\"\"\n",
    "        #FILL THIS IN\n",
    "        for item in self.dictionary:\n",
    "            if item[0] == k:\n",
    "                return item[1]\n",
    "        raise KeyError\n",
    "        \n",
    "    def delete(self, k):\n",
    "        \"\"\" k, immutable object \"\"\"   \n",
    "        #FILL THIS IN\n",
    "        count = False\n",
    "        for item in self.dictionary:\n",
    "            if k == item[0]:\n",
    "                del item[:]\n",
    "                self.dictionary = [x for x in self.dictionary if x != []]\n",
    "                count = True\n",
    "        if count == False:\n",
    "            raise KeyError"
   ]
  },
  {
   "cell_type": "code",
   "execution_count": 5,
   "id": "48446df6",
   "metadata": {},
   "outputs": [
    {
     "name": "stdout",
     "output_type": "stream",
     "text": [
      "2\n",
      "<__main__.myDict object at 0x000001743F7E71C0>\n"
     ]
    }
   ],
   "source": [
    "md = myDict()\n",
    "md.assign(1,2)\n",
    "print(md.getval(1))\n",
    "md.delete(1)\n",
    "print(md)"
   ]
  },
  {
   "cell_type": "code",
   "execution_count": null,
   "id": "8b6332b9",
   "metadata": {},
   "outputs": [],
   "source": []
  }
 ],
 "metadata": {
  "kernelspec": {
   "display_name": "Python 3",
   "language": "python",
   "name": "python3"
  },
  "language_info": {
   "codemirror_mode": {
    "name": "ipython",
    "version": 3
   },
   "file_extension": ".py",
   "mimetype": "text/x-python",
   "name": "python",
   "nbconvert_exporter": "python",
   "pygments_lexer": "ipython3",
   "version": "3.8.8"
  }
 },
 "nbformat": 4,
 "nbformat_minor": 5
}
