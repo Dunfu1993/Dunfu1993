{
 "cells": [
  {
   "cell_type": "code",
   "execution_count": 1,
   "id": "7aa976fd",
   "metadata": {},
   "outputs": [],
   "source": [
    "def McNuggets(n):\n",
    "    a_upper = n // 6 + 2\n",
    "    b_upper = n // 9 + 2\n",
    "    c_upper = n // 20 + 2\n",
    "    for a in range(a_upper):\n",
    "        for b in range(b_upper):\n",
    "            for c in range(c_upper):\n",
    "                if 6 * a + 9 * b + 20 * c == n:\n",
    "                    return True\n",
    "    return False"
   ]
  },
  {
   "cell_type": "code",
   "execution_count": 3,
   "id": "4153655a",
   "metadata": {},
   "outputs": [
    {
     "data": {
      "text/plain": [
       "True"
      ]
     },
     "execution_count": 3,
     "metadata": {},
     "output_type": "execute_result"
    }
   ],
   "source": [
    "McNuggets(15)"
   ]
  },
  {
   "cell_type": "code",
   "execution_count": 4,
   "id": "a299c7f7",
   "metadata": {},
   "outputs": [
    {
     "data": {
      "text/plain": [
       "False"
      ]
     },
     "execution_count": 4,
     "metadata": {},
     "output_type": "execute_result"
    }
   ],
   "source": [
    "McNuggets(16)"
   ]
  },
  {
   "cell_type": "code",
   "execution_count": 5,
   "id": "a688147e",
   "metadata": {},
   "outputs": [
    {
     "data": {
      "text/plain": [
       "True"
      ]
     },
     "execution_count": 5,
     "metadata": {},
     "output_type": "execute_result"
    }
   ],
   "source": [
    "McNuggets(35)"
   ]
  },
  {
   "cell_type": "code",
   "execution_count": null,
   "id": "9bbe361c",
   "metadata": {},
   "outputs": [],
   "source": []
  }
 ],
 "metadata": {
  "kernelspec": {
   "display_name": "Python 3",
   "language": "python",
   "name": "python3"
  },
  "language_info": {
   "codemirror_mode": {
    "name": "ipython",
    "version": 3
   },
   "file_extension": ".py",
   "mimetype": "text/x-python",
   "name": "python",
   "nbconvert_exporter": "python",
   "pygments_lexer": "ipython3",
   "version": "3.8.8"
  }
 },
 "nbformat": 4,
 "nbformat_minor": 5
}
