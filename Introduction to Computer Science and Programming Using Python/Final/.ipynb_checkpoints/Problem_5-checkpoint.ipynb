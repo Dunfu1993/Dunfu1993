{
 "cells": [
  {
   "cell_type": "code",
   "execution_count": 16,
   "id": "9ee5b57e",
   "metadata": {},
   "outputs": [],
   "source": [
    "def uniqueValues(aDict):\n",
    "    '''\n",
    "    aDict: a dictionary\n",
    "    returns: a sorted list of keys that map to unique aDict values, empty list if none\n",
    "    '''\n",
    "    alist = []\n",
    "    tmp_dict = {}\n",
    "    for key, value in aDict.items():\n",
    "        tmp_dict[value] = tmp_dict.get(value, 0) + 1\n",
    "    for key, value in tmp_dict.items():\n",
    "        if value == 1:\n",
    "            for k, v in aDict.items():\n",
    "                if v == key:\n",
    "                    alist.append(k)\n",
    "    alist.sort()\n",
    "    return alist"
   ]
  },
  {
   "cell_type": "code",
   "execution_count": 17,
   "id": "c4ce0e2f",
   "metadata": {},
   "outputs": [
    {
     "name": "stdout",
     "output_type": "stream",
     "text": [
      "[1, 3, 8]\n"
     ]
    }
   ],
   "source": [
    "aDict = {1: 1, 3: 2, 6: 0, 7: 0, 8: 4, 10: 0}\n",
    "print(uniqueValues(aDict))"
   ]
  },
  {
   "cell_type": "code",
   "execution_count": 18,
   "id": "44fa64b4",
   "metadata": {},
   "outputs": [
    {
     "name": "stdout",
     "output_type": "stream",
     "text": [
      "[]\n"
     ]
    }
   ],
   "source": [
    "aDict = {1: 1, 2: 1, 3: 1}\n",
    "print(uniqueValues(aDict))"
   ]
  },
  {
   "cell_type": "code",
   "execution_count": 19,
   "id": "0a3e7313",
   "metadata": {},
   "outputs": [
    {
     "name": "stdout",
     "output_type": "stream",
     "text": [
      "None\n"
     ]
    }
   ],
   "source": [
    "alist = [0, 1, 5, 3]\n",
    "print(alist.sort())"
   ]
  },
  {
   "cell_type": "code",
   "execution_count": null,
   "id": "b2d5e0ce",
   "metadata": {},
   "outputs": [],
   "source": []
  }
 ],
 "metadata": {
  "kernelspec": {
   "display_name": "Python 3",
   "language": "python",
   "name": "python3"
  },
  "language_info": {
   "codemirror_mode": {
    "name": "ipython",
    "version": 3
   },
   "file_extension": ".py",
   "mimetype": "text/x-python",
   "name": "python",
   "nbconvert_exporter": "python",
   "pygments_lexer": "ipython3",
   "version": "3.8.8"
  }
 },
 "nbformat": 4,
 "nbformat_minor": 5
}
