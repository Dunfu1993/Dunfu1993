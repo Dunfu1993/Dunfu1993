{
 "cells": [
  {
   "cell_type": "code",
   "execution_count": 9,
   "id": "3136e0ba",
   "metadata": {},
   "outputs": [],
   "source": [
    "secretnumber = 100"
   ]
  },
  {
   "cell_type": "code",
   "execution_count": 10,
   "id": "1332f3a2",
   "metadata": {},
   "outputs": [],
   "source": [
    "def isMyNumber(x):\n",
    "    if x < secretnumber:\n",
    "        return -1\n",
    "    elif x == secretnumber:\n",
    "        return 0\n",
    "    else:\n",
    "        return 1"
   ]
  },
  {
   "cell_type": "code",
   "execution_count": 11,
   "id": "53160f70",
   "metadata": {},
   "outputs": [],
   "source": [
    "def jumpAndBackpedal(isMyNumber):\n",
    "    '''\n",
    "    isMyNumber: Procedure that hides a secret number. \n",
    "     It takes as a parameter one number and returns:\n",
    "     *  -1 if the number is less than the secret number\n",
    "     *  0 if the number is equal to the secret number\n",
    "     *  1 if the number is greater than the secret number\n",
    " \n",
    "    returns: integer, the secret number\n",
    "    ''' \n",
    "    guess = 0\n",
    "    foundNumber = False\n",
    "    while not foundNumber:\n",
    "        if isMyNumber(guess) == 0:\n",
    "            foundNumber = True\n",
    "            return guess\n",
    "        elif isMyNumber(guess) == -1:\n",
    "            guess += 1\n",
    "        else:\n",
    "            guess -= 1"
   ]
  },
  {
   "cell_type": "code",
   "execution_count": 12,
   "id": "77cb997c",
   "metadata": {},
   "outputs": [
    {
     "data": {
      "text/plain": [
       "100"
      ]
     },
     "execution_count": 12,
     "metadata": {},
     "output_type": "execute_result"
    }
   ],
   "source": [
    "jumpAndBackpedal(isMyNumber)"
   ]
  },
  {
   "cell_type": "code",
   "execution_count": null,
   "id": "cc6b1335",
   "metadata": {},
   "outputs": [],
   "source": []
  }
 ],
 "metadata": {
  "kernelspec": {
   "display_name": "Python 3",
   "language": "python",
   "name": "python3"
  },
  "language_info": {
   "codemirror_mode": {
    "name": "ipython",
    "version": 3
   },
   "file_extension": ".py",
   "mimetype": "text/x-python",
   "name": "python",
   "nbconvert_exporter": "python",
   "pygments_lexer": "ipython3",
   "version": "3.8.8"
  }
 },
 "nbformat": 4,
 "nbformat_minor": 5
}
