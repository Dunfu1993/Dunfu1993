{
 "cells": [
  {
   "cell_type": "code",
   "execution_count": 9,
   "id": "2d9875cb",
   "metadata": {},
   "outputs": [],
   "source": [
    "def getSublists(L,n):\n",
    "    sublists = []\n",
    "    lenth = len(L)\n",
    "    for i in range(lenth):\n",
    "        if i+n <= lenth:\n",
    "            sublists.append(L[i:(i+n)])\n",
    "        else:\n",
    "            break\n",
    "    return sublists"
   ]
  },
  {
   "cell_type": "code",
   "execution_count": 10,
   "id": "e102b3cd",
   "metadata": {},
   "outputs": [],
   "source": [
    "L = [10, 4, 6, 8, 3, 4, 5, 7, 7, 2]\n",
    "n = 4"
   ]
  },
  {
   "cell_type": "code",
   "execution_count": 11,
   "id": "ceb1d88c",
   "metadata": {},
   "outputs": [
    {
     "data": {
      "text/plain": [
       "[[10, 4, 6, 8],\n",
       " [4, 6, 8, 3],\n",
       " [6, 8, 3, 4],\n",
       " [8, 3, 4, 5],\n",
       " [3, 4, 5, 7],\n",
       " [4, 5, 7, 7],\n",
       " [5, 7, 7, 2]]"
      ]
     },
     "execution_count": 11,
     "metadata": {},
     "output_type": "execute_result"
    }
   ],
   "source": [
    "getSublists(L,n)"
   ]
  },
  {
   "cell_type": "code",
   "execution_count": 3,
   "id": "85b49b59",
   "metadata": {},
   "outputs": [
    {
     "name": "stdout",
     "output_type": "stream",
     "text": [
      "0\n",
      "1\n",
      "2\n",
      "3\n"
     ]
    }
   ],
   "source": [
    "for i in range(4):\n",
    "    print(i)"
   ]
  }
 ],
 "metadata": {
  "kernelspec": {
   "display_name": "Python 3",
   "language": "python",
   "name": "python3"
  },
  "language_info": {
   "codemirror_mode": {
    "name": "ipython",
    "version": 3
   },
   "file_extension": ".py",
   "mimetype": "text/x-python",
   "name": "python",
   "nbconvert_exporter": "python",
   "pygments_lexer": "ipython3",
   "version": "3.8.8"
  }
 },
 "nbformat": 4,
 "nbformat_minor": 5
}
