{
 "cells": [
  {
   "cell_type": "code",
   "execution_count": 1,
   "id": "f54d621f",
   "metadata": {},
   "outputs": [],
   "source": [
    "d = {1:10, 2:20, 3:30, 4:30}"
   ]
  },
  {
   "cell_type": "code",
   "execution_count": 11,
   "id": "1b834deb",
   "metadata": {},
   "outputs": [],
   "source": [
    "aaa=list(d.keys())"
   ]
  },
  {
   "cell_type": "code",
   "execution_count": 12,
   "id": "053c9188",
   "metadata": {},
   "outputs": [
    {
     "data": {
      "text/plain": [
       "2"
      ]
     },
     "execution_count": 12,
     "metadata": {},
     "output_type": "execute_result"
    }
   ],
   "source": [
    "aaa[1]"
   ]
  },
  {
   "cell_type": "code",
   "execution_count": 14,
   "id": "df54a5c1",
   "metadata": {},
   "outputs": [
    {
     "data": {
      "text/plain": [
       "4"
      ]
     },
     "execution_count": 14,
     "metadata": {},
     "output_type": "execute_result"
    }
   ],
   "source": [
    "aaa[3]"
   ]
  },
  {
   "cell_type": "code",
   "execution_count": 17,
   "id": "f004d5eb",
   "metadata": {},
   "outputs": [],
   "source": [
    "def dict_invert(d):\n",
    "    inverse = {}\n",
    "    for keys in d.keys():\n",
    "        if d[keys] in inverse:\n",
    "            inverse[d[keys]].append(keys)\n",
    "        else:\n",
    "            inverse[d[keys]] = [keys]\n",
    "    for values in inverse.values():\n",
    "        values.sort()\n",
    "    return inverse"
   ]
  },
  {
   "cell_type": "code",
   "execution_count": 18,
   "id": "a99ea908",
   "metadata": {},
   "outputs": [
    {
     "data": {
      "text/plain": [
       "{10: [1], 20: [2], 30: [3, 4]}"
      ]
     },
     "execution_count": 18,
     "metadata": {},
     "output_type": "execute_result"
    }
   ],
   "source": [
    "dict_invert(d)"
   ]
  }
 ],
 "metadata": {
  "kernelspec": {
   "display_name": "Python 3",
   "language": "python",
   "name": "python3"
  },
  "language_info": {
   "codemirror_mode": {
    "name": "ipython",
    "version": 3
   },
   "file_extension": ".py",
   "mimetype": "text/x-python",
   "name": "python",
   "nbconvert_exporter": "python",
   "pygments_lexer": "ipython3",
   "version": "3.8.8"
  }
 },
 "nbformat": 4,
 "nbformat_minor": 5
}
