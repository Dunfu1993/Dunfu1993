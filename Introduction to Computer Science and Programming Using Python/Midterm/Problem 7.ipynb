{
 "cells": [
  {
   "cell_type": "code",
   "execution_count": 13,
   "id": "62a6226a",
   "metadata": {},
   "outputs": [],
   "source": [
    "def f(s):\n",
    "    return 'a' in s\n",
    "\n",
    "def satisfiesF(L):\n",
    "    for i, ele in enumerate(L):\n",
    "        if not f(ele):\n",
    "            L.pop(i)\n",
    "    return len(L)"
   ]
  },
  {
   "cell_type": "code",
   "execution_count": 14,
   "id": "48ef1436",
   "metadata": {},
   "outputs": [
    {
     "name": "stdout",
     "output_type": "stream",
     "text": [
      "2\n",
      "['a', 'a']\n"
     ]
    }
   ],
   "source": [
    "\n",
    "      \n",
    "L = ['a', 'b', 'a']\n",
    "print(satisfiesF(L))\n",
    "print(L)"
   ]
  }
 ],
 "metadata": {
  "kernelspec": {
   "display_name": "Python 3",
   "language": "python",
   "name": "python3"
  },
  "language_info": {
   "codemirror_mode": {
    "name": "ipython",
    "version": 3
   },
   "file_extension": ".py",
   "mimetype": "text/x-python",
   "name": "python",
   "nbconvert_exporter": "python",
   "pygments_lexer": "ipython3",
   "version": "3.8.8"
  }
 },
 "nbformat": 4,
 "nbformat_minor": 5
}
