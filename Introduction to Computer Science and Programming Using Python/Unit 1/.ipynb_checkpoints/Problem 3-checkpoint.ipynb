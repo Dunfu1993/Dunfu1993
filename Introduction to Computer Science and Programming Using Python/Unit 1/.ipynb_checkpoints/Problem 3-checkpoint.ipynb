{
 "cells": [
  {
   "cell_type": "code",
   "execution_count": 24,
   "id": "337b88be",
   "metadata": {},
   "outputs": [
    {
     "name": "stdout",
     "output_type": "stream",
     "text": [
      "abcdefg\n"
     ]
    }
   ],
   "source": [
    "# Paste your code into this box \n",
    "\n",
    "import numpy as np\n",
    "\n",
    "s = 'abcdefgbcdefghaa'\n",
    "\n",
    "longest_word = ''\n",
    "longest_word_2 = ''\n",
    "status = [0] * len(s)\n",
    "\n",
    "for i, word in enumerate(s):\n",
    "    if i != (len(s)-1):\n",
    "        if s[i] <= s[i+1]:\n",
    "            longest_word += word\n",
    "            status[i] = 1\n",
    "            \n",
    "        else:\n",
    "            status[i] = 0\n",
    "            if status[i-1] == 1:\n",
    "                longest_word += word\n",
    "            \n",
    "            if len(longest_word) > len(longest_word_2):\n",
    "                longest_word_2 = longest_word\n",
    "                \n",
    "            longest_word = ''\n",
    "    \n",
    "            \n",
    "            \n",
    "            \n",
    "            \n",
    "\n",
    "print(longest_word_2)\n",
    "\n",
    "\n",
    "\n",
    "\n",
    "\n",
    "\n",
    "\n",
    "\n",
    "\n",
    "\n",
    "\n",
    "\n"
   ]
  }
 ],
 "metadata": {
  "kernelspec": {
   "display_name": "Python 3",
   "language": "python",
   "name": "python3"
  },
  "language_info": {
   "codemirror_mode": {
    "name": "ipython",
    "version": 3
   },
   "file_extension": ".py",
   "mimetype": "text/x-python",
   "name": "python",
   "nbconvert_exporter": "python",
   "pygments_lexer": "ipython3",
   "version": "3.8.8"
  }
 },
 "nbformat": 4,
 "nbformat_minor": 5
}
