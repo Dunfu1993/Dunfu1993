{
 "cells": [
  {
   "cell_type": "code",
   "execution_count": 2,
   "id": "77ba4225",
   "metadata": {},
   "outputs": [
    {
     "name": "stdout",
     "output_type": "stream",
     "text": [
      "Number of times bob occurs is 2\n"
     ]
    }
   ],
   "source": [
    "# Paste your code into this box \n",
    "\n",
    "s = 'azcbobobegghakl'\n",
    "\n",
    "word = 'bob'\n",
    "beginning = 0\n",
    "end = beginning + 3\n",
    "num = 0\n",
    "\n",
    "for i in range(len(s)):\n",
    "    if end > len(s) + 2:\n",
    "        break\n",
    "    if s[beginning:end] == word:\n",
    "        num += 1\n",
    "    beginning +=1\n",
    "    end+=1\n",
    "    \n",
    "print(\"Number of times bob occurs is\", num)\n",
    "\n"
   ]
  }
 ],
 "metadata": {
  "kernelspec": {
   "display_name": "Python 3",
   "language": "python",
   "name": "python3"
  },
  "language_info": {
   "codemirror_mode": {
    "name": "ipython",
    "version": 3
   },
   "file_extension": ".py",
   "mimetype": "text/x-python",
   "name": "python",
   "nbconvert_exporter": "python",
   "pygments_lexer": "ipython3",
   "version": "3.8.8"
  }
 },
 "nbformat": 4,
 "nbformat_minor": 5
}
