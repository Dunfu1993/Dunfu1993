{
 "cells": [
  {
   "cell_type": "code",
   "execution_count": 27,
   "id": "b38e7d2a",
   "metadata": {},
   "outputs": [],
   "source": [
    "def genPrimes():\n",
    "    allprimes = [2]\n",
    "    init = 2\n",
    "    while True:\n",
    "        init += 1\n",
    "        prime = True\n",
    "        for num in allprimes:\n",
    "            if (init % num) == 0:\n",
    "                prime = False\n",
    "        if prime == True:\n",
    "            allprimes.append(init)\n",
    "            yield init"
   ]
  },
  {
   "cell_type": "code",
   "execution_count": 28,
   "id": "f211b8fa",
   "metadata": {},
   "outputs": [],
   "source": [
    "gen = genPrimes()\n"
   ]
  },
  {
   "cell_type": "code",
   "execution_count": 33,
   "id": "e5ad341e",
   "metadata": {},
   "outputs": [
    {
     "data": {
      "text/plain": [
       "13"
      ]
     },
     "execution_count": 33,
     "metadata": {},
     "output_type": "execute_result"
    }
   ],
   "source": [
    "gen.__next__()"
   ]
  },
  {
   "cell_type": "code",
   "execution_count": 43,
   "id": "e3937d10",
   "metadata": {},
   "outputs": [
    {
     "data": {
      "text/plain": [
       "31"
      ]
     },
     "execution_count": 43,
     "metadata": {},
     "output_type": "execute_result"
    }
   ],
   "source": [
    "next(gen)"
   ]
  },
  {
   "cell_type": "code",
   "execution_count": null,
   "id": "fa98cb18",
   "metadata": {},
   "outputs": [],
   "source": []
  }
 ],
 "metadata": {
  "kernelspec": {
   "display_name": "Python 3",
   "language": "python",
   "name": "python3"
  },
  "language_info": {
   "codemirror_mode": {
    "name": "ipython",
    "version": 3
   },
   "file_extension": ".py",
   "mimetype": "text/x-python",
   "name": "python",
   "nbconvert_exporter": "python",
   "pygments_lexer": "ipython3",
   "version": "3.8.8"
  }
 },
 "nbformat": 4,
 "nbformat_minor": 5
}
