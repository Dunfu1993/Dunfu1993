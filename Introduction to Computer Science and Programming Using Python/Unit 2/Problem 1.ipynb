{
 "cells": [
  {
   "cell_type": "code",
   "execution_count": 11,
   "id": "c4d6eb9b",
   "metadata": {},
   "outputs": [
    {
     "name": "stdout",
     "output_type": "stream",
     "text": [
      "Month 1 Remaining balance: 472.38\n",
      "Month 2 Remaining balance: 461.05\n",
      "Month 3 Remaining balance: 449.98\n",
      "Month 4 Remaining balance: 439.18\n",
      "Month 5 Remaining balance: 428.64\n",
      "Month 6 Remaining balance: 418.35\n",
      "Month 7 Remaining balance: 408.31\n",
      "Month 8 Remaining balance: 398.51\n",
      "Month 9 Remaining balance: 388.95\n",
      "Month 10 Remaining balance: 379.62\n",
      "Month 11 Remaining balance: 370.5\n",
      "Month 12 Remaining balance: 361.61\n"
     ]
    }
   ],
   "source": [
    "def Remaining_balance(balance, annualInterestRate, monthlyPaymentRate):\n",
    "    \n",
    "    monthlyInterestRate = annualInterestRate / 12.0\n",
    "    \n",
    "    for i in range(1,13):\n",
    "        \n",
    "        minimum_payment = balance * monthlyPaymentRate\n",
    "        unpaid_balance = balance - minimum_payment\n",
    "        interest = unpaid_balance * monthlyInterestRate\n",
    "        \n",
    "        balance = unpaid_balance + interest\n",
    "        \n",
    "        print(\"Month\" + \" \" + str(i) + \" \" + \"Remaining balance:\" + \" \" + str(round(balance, 2)))\n",
    "        \n",
    "        \n",
    "Remaining_balance(484, 0.2, 0.04)"
   ]
  }
 ],
 "metadata": {
  "kernelspec": {
   "display_name": "Python 3",
   "language": "python",
   "name": "python3"
  },
  "language_info": {
   "codemirror_mode": {
    "name": "ipython",
    "version": 3
   },
   "file_extension": ".py",
   "mimetype": "text/x-python",
   "name": "python",
   "nbconvert_exporter": "python",
   "pygments_lexer": "ipython3",
   "version": "3.8.8"
  }
 },
 "nbformat": 4,
 "nbformat_minor": 5
}
