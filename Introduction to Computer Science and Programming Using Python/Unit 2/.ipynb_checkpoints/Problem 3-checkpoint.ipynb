{
 "cells": [
  {
   "cell_type": "code",
   "execution_count": 3,
   "id": "e1c605a9",
   "metadata": {},
   "outputs": [
    {
     "name": "stdout",
     "output_type": "stream",
     "text": [
      "Lowest Payment: 90325.03\n"
     ]
    }
   ],
   "source": [
    "def bisection(balance, annualInterestRate):\n",
    "    \n",
    "    monthlyInterestRate = annualInterestRate / 12.0\n",
    "    lower_bound = balance / 12\n",
    "    upper_bound = (balance * (1+monthlyInterestRate)**12) / 12.0\n",
    "    \n",
    "    last_balance = balance\n",
    "    \n",
    "    while last_balance > 0 or last_balance < -0.01:\n",
    "        \n",
    "        updated_balance = balance\n",
    "        monthly_payment = (lower_bound + upper_bound) / 2\n",
    "\n",
    "        for i in range(1, 13):\n",
    "            monthly_unpaid_balance = updated_balance - monthly_payment\n",
    "            updated_balance = monthly_unpaid_balance + monthlyInterestRate*monthly_unpaid_balance\n",
    "            \n",
    "        last_balance = updated_balance\n",
    "        \n",
    "        if last_balance > 0:\n",
    "            lower_bound = monthly_payment\n",
    "        elif last_balance < -0.01:\n",
    "            upper_bound = monthly_payment\n",
    "        \n",
    "    print(\"Lowest Payment:\" + \" \" + str(round(monthly_payment, 2)))\n",
    "    \n",
    "    \n",
    "    \n",
    "bisection(999999, 0.18)"
   ]
  }
 ],
 "metadata": {
  "kernelspec": {
   "display_name": "Python 3",
   "language": "python",
   "name": "python3"
  },
  "language_info": {
   "codemirror_mode": {
    "name": "ipython",
    "version": 3
   },
   "file_extension": ".py",
   "mimetype": "text/x-python",
   "name": "python",
   "nbconvert_exporter": "python",
   "pygments_lexer": "ipython3",
   "version": "3.8.8"
  }
 },
 "nbformat": 4,
 "nbformat_minor": 5
}
