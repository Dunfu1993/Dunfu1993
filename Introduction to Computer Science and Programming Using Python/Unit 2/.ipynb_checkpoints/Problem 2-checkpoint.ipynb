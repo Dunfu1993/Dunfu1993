{
 "cells": [
  {
   "cell_type": "code",
   "execution_count": 4,
   "id": "c5fe3e17",
   "metadata": {},
   "outputs": [
    {
     "name": "stdout",
     "output_type": "stream",
     "text": [
      "Lowest Payment: 360\n"
     ]
    }
   ],
   "source": [
    "def Lowest_payment(balance, annualInterestRate):\n",
    "    \n",
    "    monthlyInterestRate = annualInterestRate / 12.0\n",
    "    monthlyPayment = 0\n",
    "    \n",
    "    last_balance = balance\n",
    "    \n",
    "    while last_balance > 0:\n",
    "        \n",
    "        monthlyPayment += 10\n",
    "        updated_balance = balance\n",
    "        \n",
    "        for i in range(1, 13):\n",
    "            monthly_unpaid_balance = updated_balance - monthlyPayment\n",
    "            updated_balance = monthly_unpaid_balance + monthlyInterestRate*monthly_unpaid_balance\n",
    "            \n",
    "        last_balance = updated_balance\n",
    "        \n",
    "    print(\"Lowest Payment:\" + \" \" + str(monthlyPayment))\n",
    "    \n",
    "Lowest_payment(3926, 0.2)"
   ]
  }
 ],
 "metadata": {
  "kernelspec": {
   "display_name": "Python 3",
   "language": "python",
   "name": "python3"
  },
  "language_info": {
   "codemirror_mode": {
    "name": "ipython",
    "version": 3
   },
   "file_extension": ".py",
   "mimetype": "text/x-python",
   "name": "python",
   "nbconvert_exporter": "python",
   "pygments_lexer": "ipython3",
   "version": "3.8.8"
  }
 },
 "nbformat": 4,
 "nbformat_minor": 5
}
